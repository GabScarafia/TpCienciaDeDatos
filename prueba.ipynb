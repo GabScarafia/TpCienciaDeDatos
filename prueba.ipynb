{
 "cells": [
  {
   "cell_type": "markdown",
   "id": "2aba6e7f",
   "metadata": {},
   "source": [
    "Movie Recommendation Notebook\n",
    "-----------------------------\n",
    "This notebook lets you input a movie preference prompt (e.g., \"I want to watch a sci-fi romance with strong female leads\")\n",
    "and returns a top-5 list of recommended movies based on dataset embeddings and similarity search.\n",
    "\n",
    "# 1. Install and import necessary libraries"
   ]
  },
  {
   "cell_type": "code",
   "execution_count": 9,
   "id": "a937101e",
   "metadata": {},
   "outputs": [
    {
     "name": "stdout",
     "output_type": "stream",
     "text": [
      "Requirement already satisfied: pandas in c:\\users\\gscarafia\\appdata\\local\\programs\\python\\python313\\lib\\site-packages (2.3.0)\n",
      "Requirement already satisfied: scikit-learn in c:\\users\\gscarafia\\appdata\\local\\programs\\python\\python313\\lib\\site-packages (1.7.0)\n",
      "Requirement already satisfied: sentence-transformers in c:\\users\\gscarafia\\appdata\\local\\programs\\python\\python313\\lib\\site-packages (4.1.0)\n",
      "Requirement already satisfied: faiss-cpu in c:\\users\\gscarafia\\appdata\\local\\programs\\python\\python313\\lib\\site-packages (1.11.0)\n",
      "Requirement already satisfied: wget in c:\\users\\gscarafia\\appdata\\local\\programs\\python\\python313\\lib\\site-packages (3.2)\n",
      "Requirement already satisfied: unzip in c:\\users\\gscarafia\\appdata\\local\\programs\\python\\python313\\lib\\site-packages (1.0.0)\n",
      "Requirement already satisfied: numpy>=1.26.0 in c:\\users\\gscarafia\\appdata\\local\\programs\\python\\python313\\lib\\site-packages (from pandas) (2.3.1)\n",
      "Requirement already satisfied: python-dateutil>=2.8.2 in c:\\users\\gscarafia\\appdata\\roaming\\python\\python313\\site-packages (from pandas) (2.9.0.post0)\n",
      "Requirement already satisfied: pytz>=2020.1 in c:\\users\\gscarafia\\appdata\\local\\programs\\python\\python313\\lib\\site-packages (from pandas) (2025.2)\n",
      "Requirement already satisfied: tzdata>=2022.7 in c:\\users\\gscarafia\\appdata\\local\\programs\\python\\python313\\lib\\site-packages (from pandas) (2025.2)\n",
      "Requirement already satisfied: scipy>=1.8.0 in c:\\users\\gscarafia\\appdata\\local\\programs\\python\\python313\\lib\\site-packages (from scikit-learn) (1.16.0)\n",
      "Requirement already satisfied: joblib>=1.2.0 in c:\\users\\gscarafia\\appdata\\local\\programs\\python\\python313\\lib\\site-packages (from scikit-learn) (1.5.1)\n",
      "Requirement already satisfied: threadpoolctl>=3.1.0 in c:\\users\\gscarafia\\appdata\\local\\programs\\python\\python313\\lib\\site-packages (from scikit-learn) (3.6.0)\n",
      "Requirement already satisfied: transformers<5.0.0,>=4.41.0 in c:\\users\\gscarafia\\appdata\\local\\programs\\python\\python313\\lib\\site-packages (from sentence-transformers) (4.53.0)\n",
      "Requirement already satisfied: tqdm in c:\\users\\gscarafia\\appdata\\local\\programs\\python\\python313\\lib\\site-packages (from sentence-transformers) (4.67.1)\n",
      "Requirement already satisfied: torch>=1.11.0 in c:\\users\\gscarafia\\appdata\\local\\programs\\python\\python313\\lib\\site-packages (from sentence-transformers) (2.7.1)\n",
      "Requirement already satisfied: huggingface-hub>=0.20.0 in c:\\users\\gscarafia\\appdata\\local\\programs\\python\\python313\\lib\\site-packages (from sentence-transformers) (0.33.1)\n",
      "Requirement already satisfied: Pillow in c:\\users\\gscarafia\\appdata\\local\\programs\\python\\python313\\lib\\site-packages (from sentence-transformers) (11.2.1)\n",
      "Requirement already satisfied: typing_extensions>=4.5.0 in c:\\users\\gscarafia\\appdata\\local\\programs\\python\\python313\\lib\\site-packages (from sentence-transformers) (4.14.0)\n",
      "Requirement already satisfied: filelock in c:\\users\\gscarafia\\appdata\\local\\programs\\python\\python313\\lib\\site-packages (from transformers<5.0.0,>=4.41.0->sentence-transformers) (3.18.0)\n",
      "Requirement already satisfied: packaging>=20.0 in c:\\users\\gscarafia\\appdata\\roaming\\python\\python313\\site-packages (from transformers<5.0.0,>=4.41.0->sentence-transformers) (25.0)\n",
      "Requirement already satisfied: pyyaml>=5.1 in c:\\users\\gscarafia\\appdata\\local\\programs\\python\\python313\\lib\\site-packages (from transformers<5.0.0,>=4.41.0->sentence-transformers) (6.0.2)\n",
      "Requirement already satisfied: regex!=2019.12.17 in c:\\users\\gscarafia\\appdata\\local\\programs\\python\\python313\\lib\\site-packages (from transformers<5.0.0,>=4.41.0->sentence-transformers) (2024.11.6)\n",
      "Requirement already satisfied: requests in c:\\users\\gscarafia\\appdata\\local\\programs\\python\\python313\\lib\\site-packages (from transformers<5.0.0,>=4.41.0->sentence-transformers) (2.32.4)\n",
      "Requirement already satisfied: tokenizers<0.22,>=0.21 in c:\\users\\gscarafia\\appdata\\local\\programs\\python\\python313\\lib\\site-packages (from transformers<5.0.0,>=4.41.0->sentence-transformers) (0.21.2)\n",
      "Requirement already satisfied: safetensors>=0.4.3 in c:\\users\\gscarafia\\appdata\\local\\programs\\python\\python313\\lib\\site-packages (from transformers<5.0.0,>=4.41.0->sentence-transformers) (0.5.3)\n",
      "Requirement already satisfied: fsspec>=2023.5.0 in c:\\users\\gscarafia\\appdata\\local\\programs\\python\\python313\\lib\\site-packages (from huggingface-hub>=0.20.0->sentence-transformers) (2025.5.1)\n",
      "Requirement already satisfied: six>=1.5 in c:\\users\\gscarafia\\appdata\\roaming\\python\\python313\\site-packages (from python-dateutil>=2.8.2->pandas) (1.17.0)\n",
      "Requirement already satisfied: sympy>=1.13.3 in c:\\users\\gscarafia\\appdata\\local\\programs\\python\\python313\\lib\\site-packages (from torch>=1.11.0->sentence-transformers) (1.14.0)\n",
      "Requirement already satisfied: networkx in c:\\users\\gscarafia\\appdata\\local\\programs\\python\\python313\\lib\\site-packages (from torch>=1.11.0->sentence-transformers) (3.5)\n",
      "Requirement already satisfied: jinja2 in c:\\users\\gscarafia\\appdata\\local\\programs\\python\\python313\\lib\\site-packages (from torch>=1.11.0->sentence-transformers) (3.1.6)\n",
      "Requirement already satisfied: setuptools in c:\\users\\gscarafia\\appdata\\local\\programs\\python\\python313\\lib\\site-packages (from torch>=1.11.0->sentence-transformers) (80.9.0)\n",
      "Requirement already satisfied: mpmath<1.4,>=1.1.0 in c:\\users\\gscarafia\\appdata\\local\\programs\\python\\python313\\lib\\site-packages (from sympy>=1.13.3->torch>=1.11.0->sentence-transformers) (1.3.0)\n",
      "Requirement already satisfied: colorama in c:\\users\\gscarafia\\appdata\\roaming\\python\\python313\\site-packages (from tqdm->sentence-transformers) (0.4.6)\n",
      "Requirement already satisfied: MarkupSafe>=2.0 in c:\\users\\gscarafia\\appdata\\local\\programs\\python\\python313\\lib\\site-packages (from jinja2->torch>=1.11.0->sentence-transformers) (3.0.2)\n",
      "Requirement already satisfied: charset_normalizer<4,>=2 in c:\\users\\gscarafia\\appdata\\local\\programs\\python\\python313\\lib\\site-packages (from requests->transformers<5.0.0,>=4.41.0->sentence-transformers) (3.4.2)\n",
      "Requirement already satisfied: idna<4,>=2.5 in c:\\users\\gscarafia\\appdata\\local\\programs\\python\\python313\\lib\\site-packages (from requests->transformers<5.0.0,>=4.41.0->sentence-transformers) (3.10)\n",
      "Requirement already satisfied: urllib3<3,>=1.21.1 in c:\\users\\gscarafia\\appdata\\local\\programs\\python\\python313\\lib\\site-packages (from requests->transformers<5.0.0,>=4.41.0->sentence-transformers) (2.5.0)\n",
      "Requirement already satisfied: certifi>=2017.4.17 in c:\\users\\gscarafia\\appdata\\local\\programs\\python\\python313\\lib\\site-packages (from requests->transformers<5.0.0,>=4.41.0->sentence-transformers) (2025.6.15)\n",
      "Note: you may need to restart the kernel to use updated packages.\n"
     ]
    },
    {
     "name": "stderr",
     "output_type": "stream",
     "text": [
      "c:\\Users\\gscarafia\\AppData\\Local\\Programs\\Python\\Python313\\Lib\\site-packages\\tqdm\\auto.py:21: TqdmWarning: IProgress not found. Please update jupyter and ipywidgets. See https://ipywidgets.readthedocs.io/en/stable/user_install.html\n",
      "  from .autonotebook import tqdm as notebook_tqdm\n"
     ]
    }
   ],
   "source": [
    "%pip install pandas scikit-learn sentence-transformers faiss-cpu wget unzip\n",
    "import pandas as pd\n",
    "from sklearn.preprocessing import StandardScaler\n",
    "from sentence_transformers import SentenceTransformer\n",
    "import faiss\n",
    "import wget \n",
    "import os\n",
    "import wget\n",
    "import zipfile\n"
   ]
  },
  {
   "cell_type": "code",
   "execution_count": 14,
   "id": "63e47750",
   "metadata": {},
   "outputs": [
    {
     "name": "stdout",
     "output_type": "stream",
     "text": [
      "Dataset ya descargado y descomprimido.\n"
     ]
    }
   ],
   "source": [
    "# 2. Cargar Dataset desde la web\n",
    "# Descarga automática del zip con el dataset\n",
    "if not os.path.exists('ml-1m') and not os.path.exists('ml-1m.zip'):\n",
    "    wget.download('https://files.grouplens.org/datasets/movielens/ml-1m.zip', 'ml-1m.zip')\n",
    "    with zipfile.ZipFile('ml-1m.zip', 'r') as zip_ref:\n",
    "        zip_ref.extractall('ml-1m')\n",
    "else:\n",
    "    print(\"Dataset ya descargado y descomprimido.\")\n",
    "# Lectura de archivos\n",
    "import pandas as pd"
   ]
  },
  {
   "cell_type": "code",
   "execution_count": 13,
   "id": "5e738593",
   "metadata": {},
   "outputs": [
    {
     "name": "stdout",
     "output_type": "stream",
     "text": [
      "   MovieID                               Title                        Genres\n",
      "0        1                    Toy Story (1995)   Animation|Children's|Comedy\n",
      "1        2                      Jumanji (1995)  Adventure|Children's|Fantasy\n",
      "2        3             Grumpier Old Men (1995)                Comedy|Romance\n",
      "3        4            Waiting to Exhale (1995)                  Comedy|Drama\n",
      "4        5  Father of the Bride Part II (1995)                        Comedy\n",
      "   UserID  MovieID  Rating  Timestamp\n",
      "0       1     1193       5  978300760\n",
      "1       1      661       3  978302109\n",
      "2       1      914       3  978301968\n",
      "3       1     3408       4  978300275\n",
      "4       1     2355       5  978824291\n",
      "   UserID Gender  Age  Occupation Zip-code\n",
      "0       1      F    1          10    48067\n",
      "1       2      M   56          16    70072\n",
      "2       3      M   25          15    55117\n",
      "3       4      M   45           7    02460\n",
      "4       5      M   25          20    55455\n"
     ]
    }
   ],
   "source": [
    "# 2. Load Dataset\n",
    "# Recommended datasets:\n",
    "# - MovieLens 1M: https://grouplens.org/datasets/movielens/1m/\n",
    "# - MovieLens 20M: https://grouplens.org/datasets/movielens/20m/\n",
    "# - IMDb Titles and Ratings: https://datasets.imdbws.com/\n",
    "\n",
    "# Dataset Recommendations\n",
    "# - MovieLens 1M: ~1M ratings, 3K movies, easy to start\n",
    "# - MovieLens 20M: richer, but heavier compute\n",
    "# - IMDb Basic Title Dataset: for richer metadata and plots\n",
    "# - TMDb API: for additional metadata and posters\n",
    "\n",
    "\n",
    "\n",
    "movies = pd.read_csv('ml-1m/ml-1m/movies.dat', sep='::', engine='python',\n",
    "                     names=['MovieID','Title','Genres'], encoding='latin1')\n",
    "ratings = pd.read_csv('ml-1m/ml-1m/ratings.dat', sep='::', engine='python',\n",
    "                      names=['UserID','MovieID','Rating','Timestamp'], encoding='latin1')\n",
    "users = pd.read_csv('ml-1m/ml-1m/users.dat', sep='::', engine='python',\n",
    "                    names=['UserID','Gender','Age','Occupation','Zip-code'], encoding='latin1')\n",
    "\n",
    "# Comprobación rápida\n",
    "print(movies.head())\n",
    "print(ratings.head())\n",
    "print(users.head())"
   ]
  },
  {
   "cell_type": "code",
   "execution_count": 15,
   "id": "178b80d3",
   "metadata": {},
   "outputs": [],
   "source": [
    "# 3. Preprocess Data\n",
    "# Extract year, clean titles\n",
    "movies['Year'] = movies['Title'].str.extract(r\"\\((\\d{4})\\)\").astype(float)\n",
    "movies['CleanTitle'] = movies['Title'].str.replace(r\"\\(\\d{4}\\)\", \"\", regex=True).str.strip()"
   ]
  },
  {
   "cell_type": "code",
   "execution_count": 16,
   "id": "302da52a",
   "metadata": {},
   "outputs": [
    {
     "name": "stderr",
     "output_type": "stream",
     "text": [
      "C:\\Users\\gscarafia\\AppData\\Local\\Temp\\ipykernel_21616\\849698478.py:4: FutureWarning: A value is trying to be set on a copy of a DataFrame or Series through chained assignment using an inplace method.\n",
      "The behavior will change in pandas 3.0. This inplace method will never work because the intermediate object on which we are setting values always behaves as a copy.\n",
      "\n",
      "For example, when doing 'df[col].method(value, inplace=True)', try using 'df.method({col: value}, inplace=True)' or df[col] = df[col].method(value) instead, to perform the operation inplace on the original object.\n",
      "\n",
      "\n",
      "  movies['AvgRating'].fillna(movies['AvgRating'].mean(), inplace=True)\n"
     ]
    }
   ],
   "source": [
    "# 4. Feature Construction: average rating and genre one-hot\n",
    "avg_ratings = ratings.groupby('MovieID')['Rating'].mean().reset_index().rename(columns={'Rating':'AvgRating'})\n",
    "movies = movies.merge(avg_ratings, on='MovieID', how='left')\n",
    "movies['AvgRating'].fillna(movies['AvgRating'].mean(), inplace=True)\n",
    "\n",
    "genres_expanded = movies['Genres'].str.get_dummies(sep='|')\n",
    "movies = pd.concat([movies, genres_expanded], axis=1)"
   ]
  },
  {
   "cell_type": "code",
   "execution_count": 17,
   "id": "f914675b",
   "metadata": {},
   "outputs": [
    {
     "name": "stderr",
     "output_type": "stream",
     "text": [
      "Batches: 100%|██████████| 122/122 [00:07<00:00, 16.58it/s]\n"
     ]
    }
   ],
   "source": [
    "# 5. Text Embeddings on descriptions: use title + genres\n",
    "model = SentenceTransformer('all-MiniLM-L6-v2')\n",
    "movies['Text'] = movies['CleanTitle'] + ' | ' + movies['Genres']\n",
    "embeddings = model.encode(movies['Text'].tolist(), show_progress_bar=True)"
   ]
  },
  {
   "cell_type": "code",
   "execution_count": 18,
   "id": "e8c94cd0",
   "metadata": {},
   "outputs": [],
   "source": [
    "# 6. Build FAISS index\n",
    "d = embeddings.shape[1]\n",
    "index = faiss.IndexFlatIP(d)       # inner product for cosine similarity after normalization\n",
    "faiss.normalize_L2(embeddings)\n",
    "index.add(embeddings)"
   ]
  },
  {
   "cell_type": "code",
   "execution_count": 24,
   "id": "8ba060b1",
   "metadata": {},
   "outputs": [
    {
     "name": "stdout",
     "output_type": "stream",
     "text": [
      "Top 5 recommendations based on your prompt:\n",
      "\n",
      " CleanTitle                        Genres  AvgRating   Year\n",
      "   Die Hard               Action|Thriller   4.121849 1988.0\n",
      " Thing, The Action|Horror|Sci-Fi|Thriller   3.785425 1982.0\n",
      "Hidden, The          Action|Horror|Sci-Fi   3.683099 1987.0\n",
      "    Mad Max                 Action|Sci-Fi   3.664165 1979.0\n",
      "  Rush Hour               Action|Thriller   3.566188 1998.0\n"
     ]
    }
   ],
   "source": [
    "# 7. Recommendation function\n",
    "def recommend_movies(prompt, k=5, overfetch=20):\n",
    "    # Embed prompt\n",
    "    q_emb = model.encode([prompt])\n",
    "    faiss.normalize_L2(q_emb)\n",
    "\n",
    "    # Buscar más resultados (ej: 20), luego ordenar por rating\n",
    "    distances, indices = index.search(q_emb, overfetch)\n",
    "    results = movies.iloc[indices[0]][['CleanTitle','Genres','AvgRating','Year']]\n",
    "\n",
    "    # Ordenar por rating promedio y devolver top k\n",
    "    top_recs = results.sort_values(by='AvgRating', ascending=False).head(k)\n",
    "    return top_recs\n",
    "\n",
    "# 8. User Interaction\n",
    "if __name__ == '__main__':\n",
    "    user_prompt = input(\"Describe what type of movie you want: \")\n",
    "    recommendations = recommend_movies(user_prompt, k=5)\n",
    "    print(\"Top 5 recommendations based on your prompt:\\n\")\n",
    "    print(recommendations.to_string(index=False))"
   ]
  }
 ],
 "metadata": {
  "kernelspec": {
   "display_name": "Python 3",
   "language": "python",
   "name": "python3"
  },
  "language_info": {
   "codemirror_mode": {
    "name": "ipython",
    "version": 3
   },
   "file_extension": ".py",
   "mimetype": "text/x-python",
   "name": "python",
   "nbconvert_exporter": "python",
   "pygments_lexer": "ipython3",
   "version": "3.13.5"
  }
 },
 "nbformat": 4,
 "nbformat_minor": 5
}
